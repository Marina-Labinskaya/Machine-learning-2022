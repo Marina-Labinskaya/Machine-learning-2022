{
  "nbformat": 4,
  "nbformat_minor": 0,
  "metadata": {
    "colab": {
      "provenance": [],
      "collapsed_sections": []
    },
    "kernelspec": {
      "name": "python3",
      "display_name": "Python 3"
    },
    "language_info": {
      "name": "python"
    }
  },
  "cells": [
    {
      "cell_type": "markdown",
      "source": [
        "#Задача классификации"
      ],
      "metadata": {
        "id": "GNsjmcMnaoCS"
      }
    },
    {
      "cell_type": "code",
      "execution_count": 1,
      "metadata": {
        "id": "h4_AJMV9aXmH"
      },
      "outputs": [],
      "source": [
        "import numpy as np              # Одномерные и многомерные массивы (array)\n",
        "import pandas as pd             # Таблицы и временные ряды (dataframe, series)\n",
        "import matplotlib.pyplot as plt # Научная графика\n",
        "import seaborn as sns           # Еще больше красивой графики для визуализации данных"
      ]
    },
    {
      "cell_type": "markdown",
      "source": [
        "# 0. Описание задачи\n",
        "Контекст и содержание\n",
        "\n",
        "Компания хочет нанять специалистов по обработке данных из числа людей, успешно прошедших некоторые курсы, которые проводит компания. Компания хочет знать, кто из этих кандидатов действительно хочет работать в компании после обучения или ищет новую работу."
      ],
      "metadata": {
        "id": "q6dt89bna5Op"
      }
    },
    {
      "cell_type": "markdown",
      "source": [
        "# 1. Загрузка данных"
      ],
      "metadata": {
        "id": "RyIaLZf8bRsP"
      }
    },
    {
      "cell_type": "code",
      "source": [
        "url = \"https://raw.githubusercontent.com/Marina-Labinskaya/Machine-learning-2022/main/aug_train.csv\"\n",
        "data_raw = pd.read_csv(url)"
      ],
      "metadata": {
        "id": "EqfasLRkazhG"
      },
      "execution_count": 2,
      "outputs": []
    },
    {
      "cell_type": "markdown",
      "source": [
        "Первые и последние значения из таблицы данных:"
      ],
      "metadata": {
        "id": "5RE0ixhSpRTc"
      }
    },
    {
      "cell_type": "code",
      "source": [
        "data_raw"
      ],
      "metadata": {
        "colab": {
          "base_uri": "https://localhost:8080/",
          "height": 424
        },
        "id": "0W0J1BKNpWBs",
        "outputId": "09f3b842-7be3-4269-94bb-267f720413f3"
      },
      "execution_count": 3,
      "outputs": [
        {
          "output_type": "execute_result",
          "data": {
            "text/plain": [
              "       enrollee_id      city  city_development_index gender  \\\n",
              "0             8949  city_103                   0.920   Male   \n",
              "1            29725   city_40                   0.776   Male   \n",
              "2            11561   city_21                   0.624    NaN   \n",
              "3            33241  city_115                   0.789    NaN   \n",
              "4              666  city_162                   0.767   Male   \n",
              "...            ...       ...                     ...    ...   \n",
              "19153         7386  city_173                   0.878   Male   \n",
              "19154        31398  city_103                   0.920   Male   \n",
              "19155        24576  city_103                   0.920   Male   \n",
              "19156         5756   city_65                   0.802   Male   \n",
              "19157        23834   city_67                   0.855    NaN   \n",
              "\n",
              "           relevent_experience enrolled_university education_level  \\\n",
              "0      Has relevent experience       no_enrollment        Graduate   \n",
              "1       No relevent experience       no_enrollment        Graduate   \n",
              "2       No relevent experience    Full time course        Graduate   \n",
              "3       No relevent experience                 NaN        Graduate   \n",
              "4      Has relevent experience       no_enrollment         Masters   \n",
              "...                        ...                 ...             ...   \n",
              "19153   No relevent experience       no_enrollment        Graduate   \n",
              "19154  Has relevent experience       no_enrollment        Graduate   \n",
              "19155  Has relevent experience       no_enrollment        Graduate   \n",
              "19156  Has relevent experience       no_enrollment     High School   \n",
              "19157   No relevent experience       no_enrollment  Primary School   \n",
              "\n",
              "      major_discipline experience company_size    company_type last_new_job  \\\n",
              "0                 STEM        >20          NaN             NaN            1   \n",
              "1                 STEM         15        50-99         Pvt Ltd           >4   \n",
              "2                 STEM          5          NaN             NaN        never   \n",
              "3      Business Degree         <1          NaN         Pvt Ltd        never   \n",
              "4                 STEM        >20        50-99  Funded Startup            4   \n",
              "...                ...        ...          ...             ...          ...   \n",
              "19153       Humanities         14          NaN             NaN            1   \n",
              "19154             STEM         14          NaN             NaN            4   \n",
              "19155             STEM        >20        50-99         Pvt Ltd            4   \n",
              "19156              NaN         <1      500-999         Pvt Ltd            2   \n",
              "19157              NaN          2          NaN             NaN            1   \n",
              "\n",
              "       training_hours  target  \n",
              "0                  36     1.0  \n",
              "1                  47     0.0  \n",
              "2                  83     0.0  \n",
              "3                  52     1.0  \n",
              "4                   8     0.0  \n",
              "...               ...     ...  \n",
              "19153              42     1.0  \n",
              "19154              52     1.0  \n",
              "19155              44     0.0  \n",
              "19156              97     0.0  \n",
              "19157             127     0.0  \n",
              "\n",
              "[19158 rows x 14 columns]"
            ],
            "text/html": [
              "\n",
              "  <div id=\"df-bbbeb156-5bd9-4a37-a403-67f89f5079b8\">\n",
              "    <div class=\"colab-df-container\">\n",
              "      <div>\n",
              "<style scoped>\n",
              "    .dataframe tbody tr th:only-of-type {\n",
              "        vertical-align: middle;\n",
              "    }\n",
              "\n",
              "    .dataframe tbody tr th {\n",
              "        vertical-align: top;\n",
              "    }\n",
              "\n",
              "    .dataframe thead th {\n",
              "        text-align: right;\n",
              "    }\n",
              "</style>\n",
              "<table border=\"1\" class=\"dataframe\">\n",
              "  <thead>\n",
              "    <tr style=\"text-align: right;\">\n",
              "      <th></th>\n",
              "      <th>enrollee_id</th>\n",
              "      <th>city</th>\n",
              "      <th>city_development_index</th>\n",
              "      <th>gender</th>\n",
              "      <th>relevent_experience</th>\n",
              "      <th>enrolled_university</th>\n",
              "      <th>education_level</th>\n",
              "      <th>major_discipline</th>\n",
              "      <th>experience</th>\n",
              "      <th>company_size</th>\n",
              "      <th>company_type</th>\n",
              "      <th>last_new_job</th>\n",
              "      <th>training_hours</th>\n",
              "      <th>target</th>\n",
              "    </tr>\n",
              "  </thead>\n",
              "  <tbody>\n",
              "    <tr>\n",
              "      <th>0</th>\n",
              "      <td>8949</td>\n",
              "      <td>city_103</td>\n",
              "      <td>0.920</td>\n",
              "      <td>Male</td>\n",
              "      <td>Has relevent experience</td>\n",
              "      <td>no_enrollment</td>\n",
              "      <td>Graduate</td>\n",
              "      <td>STEM</td>\n",
              "      <td>&gt;20</td>\n",
              "      <td>NaN</td>\n",
              "      <td>NaN</td>\n",
              "      <td>1</td>\n",
              "      <td>36</td>\n",
              "      <td>1.0</td>\n",
              "    </tr>\n",
              "    <tr>\n",
              "      <th>1</th>\n",
              "      <td>29725</td>\n",
              "      <td>city_40</td>\n",
              "      <td>0.776</td>\n",
              "      <td>Male</td>\n",
              "      <td>No relevent experience</td>\n",
              "      <td>no_enrollment</td>\n",
              "      <td>Graduate</td>\n",
              "      <td>STEM</td>\n",
              "      <td>15</td>\n",
              "      <td>50-99</td>\n",
              "      <td>Pvt Ltd</td>\n",
              "      <td>&gt;4</td>\n",
              "      <td>47</td>\n",
              "      <td>0.0</td>\n",
              "    </tr>\n",
              "    <tr>\n",
              "      <th>2</th>\n",
              "      <td>11561</td>\n",
              "      <td>city_21</td>\n",
              "      <td>0.624</td>\n",
              "      <td>NaN</td>\n",
              "      <td>No relevent experience</td>\n",
              "      <td>Full time course</td>\n",
              "      <td>Graduate</td>\n",
              "      <td>STEM</td>\n",
              "      <td>5</td>\n",
              "      <td>NaN</td>\n",
              "      <td>NaN</td>\n",
              "      <td>never</td>\n",
              "      <td>83</td>\n",
              "      <td>0.0</td>\n",
              "    </tr>\n",
              "    <tr>\n",
              "      <th>3</th>\n",
              "      <td>33241</td>\n",
              "      <td>city_115</td>\n",
              "      <td>0.789</td>\n",
              "      <td>NaN</td>\n",
              "      <td>No relevent experience</td>\n",
              "      <td>NaN</td>\n",
              "      <td>Graduate</td>\n",
              "      <td>Business Degree</td>\n",
              "      <td>&lt;1</td>\n",
              "      <td>NaN</td>\n",
              "      <td>Pvt Ltd</td>\n",
              "      <td>never</td>\n",
              "      <td>52</td>\n",
              "      <td>1.0</td>\n",
              "    </tr>\n",
              "    <tr>\n",
              "      <th>4</th>\n",
              "      <td>666</td>\n",
              "      <td>city_162</td>\n",
              "      <td>0.767</td>\n",
              "      <td>Male</td>\n",
              "      <td>Has relevent experience</td>\n",
              "      <td>no_enrollment</td>\n",
              "      <td>Masters</td>\n",
              "      <td>STEM</td>\n",
              "      <td>&gt;20</td>\n",
              "      <td>50-99</td>\n",
              "      <td>Funded Startup</td>\n",
              "      <td>4</td>\n",
              "      <td>8</td>\n",
              "      <td>0.0</td>\n",
              "    </tr>\n",
              "    <tr>\n",
              "      <th>...</th>\n",
              "      <td>...</td>\n",
              "      <td>...</td>\n",
              "      <td>...</td>\n",
              "      <td>...</td>\n",
              "      <td>...</td>\n",
              "      <td>...</td>\n",
              "      <td>...</td>\n",
              "      <td>...</td>\n",
              "      <td>...</td>\n",
              "      <td>...</td>\n",
              "      <td>...</td>\n",
              "      <td>...</td>\n",
              "      <td>...</td>\n",
              "      <td>...</td>\n",
              "    </tr>\n",
              "    <tr>\n",
              "      <th>19153</th>\n",
              "      <td>7386</td>\n",
              "      <td>city_173</td>\n",
              "      <td>0.878</td>\n",
              "      <td>Male</td>\n",
              "      <td>No relevent experience</td>\n",
              "      <td>no_enrollment</td>\n",
              "      <td>Graduate</td>\n",
              "      <td>Humanities</td>\n",
              "      <td>14</td>\n",
              "      <td>NaN</td>\n",
              "      <td>NaN</td>\n",
              "      <td>1</td>\n",
              "      <td>42</td>\n",
              "      <td>1.0</td>\n",
              "    </tr>\n",
              "    <tr>\n",
              "      <th>19154</th>\n",
              "      <td>31398</td>\n",
              "      <td>city_103</td>\n",
              "      <td>0.920</td>\n",
              "      <td>Male</td>\n",
              "      <td>Has relevent experience</td>\n",
              "      <td>no_enrollment</td>\n",
              "      <td>Graduate</td>\n",
              "      <td>STEM</td>\n",
              "      <td>14</td>\n",
              "      <td>NaN</td>\n",
              "      <td>NaN</td>\n",
              "      <td>4</td>\n",
              "      <td>52</td>\n",
              "      <td>1.0</td>\n",
              "    </tr>\n",
              "    <tr>\n",
              "      <th>19155</th>\n",
              "      <td>24576</td>\n",
              "      <td>city_103</td>\n",
              "      <td>0.920</td>\n",
              "      <td>Male</td>\n",
              "      <td>Has relevent experience</td>\n",
              "      <td>no_enrollment</td>\n",
              "      <td>Graduate</td>\n",
              "      <td>STEM</td>\n",
              "      <td>&gt;20</td>\n",
              "      <td>50-99</td>\n",
              "      <td>Pvt Ltd</td>\n",
              "      <td>4</td>\n",
              "      <td>44</td>\n",
              "      <td>0.0</td>\n",
              "    </tr>\n",
              "    <tr>\n",
              "      <th>19156</th>\n",
              "      <td>5756</td>\n",
              "      <td>city_65</td>\n",
              "      <td>0.802</td>\n",
              "      <td>Male</td>\n",
              "      <td>Has relevent experience</td>\n",
              "      <td>no_enrollment</td>\n",
              "      <td>High School</td>\n",
              "      <td>NaN</td>\n",
              "      <td>&lt;1</td>\n",
              "      <td>500-999</td>\n",
              "      <td>Pvt Ltd</td>\n",
              "      <td>2</td>\n",
              "      <td>97</td>\n",
              "      <td>0.0</td>\n",
              "    </tr>\n",
              "    <tr>\n",
              "      <th>19157</th>\n",
              "      <td>23834</td>\n",
              "      <td>city_67</td>\n",
              "      <td>0.855</td>\n",
              "      <td>NaN</td>\n",
              "      <td>No relevent experience</td>\n",
              "      <td>no_enrollment</td>\n",
              "      <td>Primary School</td>\n",
              "      <td>NaN</td>\n",
              "      <td>2</td>\n",
              "      <td>NaN</td>\n",
              "      <td>NaN</td>\n",
              "      <td>1</td>\n",
              "      <td>127</td>\n",
              "      <td>0.0</td>\n",
              "    </tr>\n",
              "  </tbody>\n",
              "</table>\n",
              "<p>19158 rows × 14 columns</p>\n",
              "</div>\n",
              "      <button class=\"colab-df-convert\" onclick=\"convertToInteractive('df-bbbeb156-5bd9-4a37-a403-67f89f5079b8')\"\n",
              "              title=\"Convert this dataframe to an interactive table.\"\n",
              "              style=\"display:none;\">\n",
              "        \n",
              "  <svg xmlns=\"http://www.w3.org/2000/svg\" height=\"24px\"viewBox=\"0 0 24 24\"\n",
              "       width=\"24px\">\n",
              "    <path d=\"M0 0h24v24H0V0z\" fill=\"none\"/>\n",
              "    <path d=\"M18.56 5.44l.94 2.06.94-2.06 2.06-.94-2.06-.94-.94-2.06-.94 2.06-2.06.94zm-11 1L8.5 8.5l.94-2.06 2.06-.94-2.06-.94L8.5 2.5l-.94 2.06-2.06.94zm10 10l.94 2.06.94-2.06 2.06-.94-2.06-.94-.94-2.06-.94 2.06-2.06.94z\"/><path d=\"M17.41 7.96l-1.37-1.37c-.4-.4-.92-.59-1.43-.59-.52 0-1.04.2-1.43.59L10.3 9.45l-7.72 7.72c-.78.78-.78 2.05 0 2.83L4 21.41c.39.39.9.59 1.41.59.51 0 1.02-.2 1.41-.59l7.78-7.78 2.81-2.81c.8-.78.8-2.07 0-2.86zM5.41 20L4 18.59l7.72-7.72 1.47 1.35L5.41 20z\"/>\n",
              "  </svg>\n",
              "      </button>\n",
              "      \n",
              "  <style>\n",
              "    .colab-df-container {\n",
              "      display:flex;\n",
              "      flex-wrap:wrap;\n",
              "      gap: 12px;\n",
              "    }\n",
              "\n",
              "    .colab-df-convert {\n",
              "      background-color: #E8F0FE;\n",
              "      border: none;\n",
              "      border-radius: 50%;\n",
              "      cursor: pointer;\n",
              "      display: none;\n",
              "      fill: #1967D2;\n",
              "      height: 32px;\n",
              "      padding: 0 0 0 0;\n",
              "      width: 32px;\n",
              "    }\n",
              "\n",
              "    .colab-df-convert:hover {\n",
              "      background-color: #E2EBFA;\n",
              "      box-shadow: 0px 1px 2px rgba(60, 64, 67, 0.3), 0px 1px 3px 1px rgba(60, 64, 67, 0.15);\n",
              "      fill: #174EA6;\n",
              "    }\n",
              "\n",
              "    [theme=dark] .colab-df-convert {\n",
              "      background-color: #3B4455;\n",
              "      fill: #D2E3FC;\n",
              "    }\n",
              "\n",
              "    [theme=dark] .colab-df-convert:hover {\n",
              "      background-color: #434B5C;\n",
              "      box-shadow: 0px 1px 3px 1px rgba(0, 0, 0, 0.15);\n",
              "      filter: drop-shadow(0px 1px 2px rgba(0, 0, 0, 0.3));\n",
              "      fill: #FFFFFF;\n",
              "    }\n",
              "  </style>\n",
              "\n",
              "      <script>\n",
              "        const buttonEl =\n",
              "          document.querySelector('#df-bbbeb156-5bd9-4a37-a403-67f89f5079b8 button.colab-df-convert');\n",
              "        buttonEl.style.display =\n",
              "          google.colab.kernel.accessAllowed ? 'block' : 'none';\n",
              "\n",
              "        async function convertToInteractive(key) {\n",
              "          const element = document.querySelector('#df-bbbeb156-5bd9-4a37-a403-67f89f5079b8');\n",
              "          const dataTable =\n",
              "            await google.colab.kernel.invokeFunction('convertToInteractive',\n",
              "                                                     [key], {});\n",
              "          if (!dataTable) return;\n",
              "\n",
              "          const docLinkHtml = 'Like what you see? Visit the ' +\n",
              "            '<a target=\"_blank\" href=https://colab.research.google.com/notebooks/data_table.ipynb>data table notebook</a>'\n",
              "            + ' to learn more about interactive tables.';\n",
              "          element.innerHTML = '';\n",
              "          dataTable['output_type'] = 'display_data';\n",
              "          await google.colab.output.renderOutput(dataTable, element);\n",
              "          const docLink = document.createElement('div');\n",
              "          docLink.innerHTML = docLinkHtml;\n",
              "          element.appendChild(docLink);\n",
              "        }\n",
              "      </script>\n",
              "    </div>\n",
              "  </div>\n",
              "  "
            ]
          },
          "metadata": {},
          "execution_count": 3
        }
      ]
    },
    {
      "cell_type": "markdown",
      "source": [
        "Количество объектов:"
      ],
      "metadata": {
        "id": "8sB_pxLicze8"
      }
    },
    {
      "cell_type": "code",
      "source": [
        "data_raw.shape[0]\n"
      ],
      "metadata": {
        "colab": {
          "base_uri": "https://localhost:8080/"
        },
        "id": "7cPWQDJDb_P7",
        "outputId": "a8b09935-801f-46bc-b2b2-62c752d3ddfd"
      },
      "execution_count": 4,
      "outputs": [
        {
          "output_type": "execute_result",
          "data": {
            "text/plain": [
              "19158"
            ]
          },
          "metadata": {},
          "execution_count": 4
        }
      ]
    },
    {
      "cell_type": "markdown",
      "source": [
        "Количество признаков у каждого объекта:"
      ],
      "metadata": {
        "id": "2QuYGa4NdO8S"
      }
    },
    {
      "cell_type": "code",
      "source": [
        "data_raw.shape[1]"
      ],
      "metadata": {
        "colab": {
          "base_uri": "https://localhost:8080/"
        },
        "id": "tR6GjmaTccDs",
        "outputId": "192bbc90-f258-4f1b-aabf-c66b4792cda0"
      },
      "execution_count": 5,
      "outputs": [
        {
          "output_type": "execute_result",
          "data": {
            "text/plain": [
              "14"
            ]
          },
          "metadata": {},
          "execution_count": 5
        }
      ]
    },
    {
      "cell_type": "markdown",
      "source": [
        "Выведем информацию о датасете:"
      ],
      "metadata": {
        "id": "mJay80ibptE5"
      }
    },
    {
      "cell_type": "code",
      "source": [
        "data_raw.info()"
      ],
      "metadata": {
        "colab": {
          "base_uri": "https://localhost:8080/"
        },
        "id": "JYa_MXrFps1j",
        "outputId": "e684d90d-dead-46fd-a5b1-fd4991e10413"
      },
      "execution_count": 6,
      "outputs": [
        {
          "output_type": "stream",
          "name": "stdout",
          "text": [
            "<class 'pandas.core.frame.DataFrame'>\n",
            "RangeIndex: 19158 entries, 0 to 19157\n",
            "Data columns (total 14 columns):\n",
            " #   Column                  Non-Null Count  Dtype  \n",
            "---  ------                  --------------  -----  \n",
            " 0   enrollee_id             19158 non-null  int64  \n",
            " 1   city                    19158 non-null  object \n",
            " 2   city_development_index  19158 non-null  float64\n",
            " 3   gender                  14650 non-null  object \n",
            " 4   relevent_experience     19158 non-null  object \n",
            " 5   enrolled_university     18772 non-null  object \n",
            " 6   education_level         18698 non-null  object \n",
            " 7   major_discipline        16345 non-null  object \n",
            " 8   experience              19093 non-null  object \n",
            " 9   company_size            13220 non-null  object \n",
            " 10  company_type            13018 non-null  object \n",
            " 11  last_new_job            18735 non-null  object \n",
            " 12  training_hours          19158 non-null  int64  \n",
            " 13  target                  19158 non-null  float64\n",
            "dtypes: float64(2), int64(2), object(10)\n",
            "memory usage: 2.0+ MB\n"
          ]
        }
      ]
    },
    {
      "cell_type": "markdown",
      "source": [
        "Отсюда видно, что имеются следующие признаки:\n",
        "\n",
        "\n",
        "* enrollee_id - Уникальный идентификатор кандидата\n",
        "* city - Код города\n",
        "* city_development_index - индекс развития города\n",
        "* gender - Пол кандидата\n",
        "* relevent_experience - Соответствующий опыт кандидата\n",
        "* enrolled_university - Тип зачисленного университетского курса, если таковой имеется\n",
        "* education_level - Уровень образования кандидата\n",
        "* major_discipline - Образование, основная дисциплина кандидата \n",
        "* experience - Общий стаж кандидата в годах\n",
        "* company_size - Количество сотрудников в компании текущего работодателя\n",
        "* company_type - Тип текущего работодателя\n",
        "* last_new_job - Разница в годах между предыдущей работой и текущей работой\n",
        "* training_hours - завершенные часы обучения\n",
        "* target - цель: 0 – Не ищу смены работы, 1 – Ищу смену работы\n",
        "\n",
        "Категориальные признаки: enrollee_id, city, gender, relevent_experience, enrolled_university,\n",
        "education_level, major_discipline, experience, company_size, company_type,\n",
        "last_new_job\n",
        "\n",
        "Количественные признаки: city_development_index, training_hours\n",
        "\n",
        "Бинарный признак: target - отнесем его к категориальным."
      ],
      "metadata": {
        "id": "4N0ptkwHp8DX"
      }
    },
    {
      "cell_type": "markdown",
      "source": [
        "Для категориальных признаков изменим тип с типа object на тип category:"
      ],
      "metadata": {
        "id": "v9Tn0AEp5gkF"
      }
    },
    {
      "cell_type": "code",
      "source": [
        "data_raw['enrollee_id'] = data_raw['enrollee_id'].astype('category')"
      ],
      "metadata": {
        "id": "3uDAEeDkFlcH"
      },
      "execution_count": 7,
      "outputs": []
    },
    {
      "cell_type": "code",
      "source": [
        "data_raw['city'] = data_raw['city'].astype('category')"
      ],
      "metadata": {
        "id": "YFJMdNvPs3nJ"
      },
      "execution_count": 8,
      "outputs": []
    },
    {
      "cell_type": "code",
      "source": [
        "data_raw['gender'] = data_raw['gender'].astype('category')"
      ],
      "metadata": {
        "id": "IMDz_IYjtAw2"
      },
      "execution_count": 9,
      "outputs": []
    },
    {
      "cell_type": "code",
      "source": [
        "data_raw['relevent_experience'] = data_raw['relevent_experience'].astype('category')"
      ],
      "metadata": {
        "id": "oDqOdJaptA4E"
      },
      "execution_count": 10,
      "outputs": []
    },
    {
      "cell_type": "code",
      "source": [
        "data_raw['enrolled_university'] = data_raw['enrolled_university'].astype('category')"
      ],
      "metadata": {
        "id": "KP9dsdTptA8c"
      },
      "execution_count": 11,
      "outputs": []
    },
    {
      "cell_type": "code",
      "source": [
        "data_raw['education_level'] = data_raw['education_level'].astype('category')"
      ],
      "metadata": {
        "id": "-kOkuyE4tA-6"
      },
      "execution_count": 12,
      "outputs": []
    },
    {
      "cell_type": "code",
      "source": [
        "data_raw['major_discipline'] = data_raw['major_discipline'].astype('category')"
      ],
      "metadata": {
        "id": "c2v2MHwptBBi"
      },
      "execution_count": 13,
      "outputs": []
    },
    {
      "cell_type": "code",
      "source": [
        "data_raw['experience'] = data_raw['experience'].astype('category')"
      ],
      "metadata": {
        "id": "Jc4Of5CmtBFn"
      },
      "execution_count": 14,
      "outputs": []
    },
    {
      "cell_type": "code",
      "source": [
        "data_raw['company_size'] = data_raw['company_size'].astype('category')"
      ],
      "metadata": {
        "id": "tO56EeqctVqH"
      },
      "execution_count": 15,
      "outputs": []
    },
    {
      "cell_type": "code",
      "source": [
        "data_raw['company_type'] = data_raw['company_type'].astype('category')"
      ],
      "metadata": {
        "id": "4lUNtwMTtVz5"
      },
      "execution_count": 16,
      "outputs": []
    },
    {
      "cell_type": "code",
      "source": [
        "data_raw['last_new_job'] = data_raw['last_new_job'].astype('category')"
      ],
      "metadata": {
        "id": "U80sZCY2tYYU"
      },
      "execution_count": 17,
      "outputs": []
    },
    {
      "cell_type": "code",
      "source": [
        "data_raw['target'] = data_raw['target'].astype('category')"
      ],
      "metadata": {
        "id": "fqYQNjvlXv3E"
      },
      "execution_count": 19,
      "outputs": []
    },
    {
      "cell_type": "markdown",
      "source": [
        "Проверим тип категориальных признаков:"
      ],
      "metadata": {
        "id": "3rMUYGWt5eHJ"
      }
    },
    {
      "cell_type": "code",
      "source": [
        "data_raw.info()"
      ],
      "metadata": {
        "colab": {
          "base_uri": "https://localhost:8080/"
        },
        "id": "m-Nb_N7VtmHZ",
        "outputId": "4914871c-2c66-4267-dc2c-990a7e537b1b"
      },
      "execution_count": 20,
      "outputs": [
        {
          "output_type": "stream",
          "name": "stdout",
          "text": [
            "<class 'pandas.core.frame.DataFrame'>\n",
            "RangeIndex: 19158 entries, 0 to 19157\n",
            "Data columns (total 14 columns):\n",
            " #   Column                  Non-Null Count  Dtype   \n",
            "---  ------                  --------------  -----   \n",
            " 0   enrollee_id             19158 non-null  category\n",
            " 1   city                    19158 non-null  category\n",
            " 2   city_development_index  19158 non-null  float64 \n",
            " 3   gender                  14650 non-null  category\n",
            " 4   relevent_experience     19158 non-null  category\n",
            " 5   enrolled_university     18772 non-null  category\n",
            " 6   education_level         18698 non-null  category\n",
            " 7   major_discipline        16345 non-null  category\n",
            " 8   experience              19093 non-null  category\n",
            " 9   company_size            13220 non-null  category\n",
            " 10  company_type            13018 non-null  category\n",
            " 11  last_new_job            18735 non-null  category\n",
            " 12  training_hours          19158 non-null  int64   \n",
            " 13  target                  19158 non-null  category\n",
            "dtypes: category(12), float64(1), int64(1)\n",
            "memory usage: 1.2 MB\n"
          ]
        }
      ]
    },
    {
      "cell_type": "markdown",
      "source": [
        "# 2. Визуализация данных и вычисление основных характеристик (среднее, разброс, корреляционную матрицу и т.д.). Интерпретация полученных результатов.\n",
        "\n",
        "Выведем все диаграммы рассеивания для количественных признаков."
      ],
      "metadata": {
        "id": "HaGUt5rZtsRU"
      }
    },
    {
      "cell_type": "code",
      "source": [
        "pd.plotting.scatter_matrix(data_raw, figsize = (10, 10), alpha = 0.05)\n",
        "pass"
      ],
      "metadata": {
        "colab": {
          "base_uri": "https://localhost:8080/",
          "height": 612
        },
        "id": "wPWklUz4tuxP",
        "outputId": "9913246e-3134-40fc-9e94-6aa25bf3f373"
      },
      "execution_count": 21,
      "outputs": [
        {
          "output_type": "display_data",
          "data": {
            "text/plain": [
              "<Figure size 720x720 with 4 Axes>"
            ],
            "image/png": "[encoded data removed]"
          },
          "metadata": {
            "needs_background": "light"
          }
        }
      ]
    },
    {
      "cell_type": "markdown",
      "source": [
        "Посмотрим, как соотносится количество людей, ищущих смену работы, и тех, кто не ищет (признак target)"
      ],
      "metadata": {
        "id": "xCI_7mHqu1Vj"
      }
    },
    {
      "cell_type": "code",
      "source": [
        "sns.histplot(x = 'target', data = data_raw)\n",
        "pass"
      ],
      "metadata": {
        "colab": {
          "base_uri": "https://localhost:8080/",
          "height": 279
        },
        "id": "anMlRtR6t98S",
        "outputId": "71085a48-dad1-4829-e88d-d8d5e785a507"
      },
      "execution_count": 22,
      "outputs": [
        {
          "output_type": "display_data",
          "data": {
            "text/plain": [
              "<Figure size 432x288 with 1 Axes>"
            ],
            "image/png": "[encoded data removed]"
          },
          "metadata": {
            "needs_background": "light"
          }
        }
      ]
    },
    {
      "cell_type": "markdown",
      "source": [
        "Из гистограммы видно, что классы несбалансированы - найдём их точное соотношение."
      ],
      "metadata": {
        "id": "H4yP4tJ-ycKN"
      }
    },
    {
      "cell_type": "code",
      "source": [
        "data_raw['target'].value_counts()"
      ],
      "metadata": {
        "colab": {
          "base_uri": "https://localhost:8080/"
        },
        "id": "QaKvRwgczRU3",
        "outputId": "0bd92401-5a5c-498e-9364-b1ef7403ed2d"
      },
      "execution_count": 23,
      "outputs": [
        {
          "output_type": "execute_result",
          "data": {
            "text/plain": [
              "0.0    14381\n",
              "1.0     4777\n",
              "Name: target, dtype: int64"
            ]
          },
          "metadata": {},
          "execution_count": 23
        }
      ]
    },
    {
      "cell_type": "markdown",
      "source": [
        "Люди, не ищущие смену работы (в %):\n",
        "\n",
        "\n"
      ],
      "metadata": {
        "id": "FGwmvCl8z5L1"
      }
    },
    {
      "cell_type": "code",
      "source": [
        "data_raw['target'].value_counts()[0] / (data_raw['target'].value_counts()[0] + data_raw['target'].value_counts()[1]) * 100"
      ],
      "metadata": {
        "colab": {
          "base_uri": "https://localhost:8080/"
        },
        "id": "xUs8O5r2zcYz",
        "outputId": "176c67f7-80c8-4f57-bddc-83bf9d16c198"
      },
      "execution_count": 24,
      "outputs": [
        {
          "output_type": "execute_result",
          "data": {
            "text/plain": [
              "75.06524689424784"
            ]
          },
          "metadata": {},
          "execution_count": 24
        }
      ]
    },
    {
      "cell_type": "markdown",
      "source": [
        "Люди, ищущие смену работы (в %):"
      ],
      "metadata": {
        "id": "PQson_mF0D_q"
      }
    },
    {
      "cell_type": "code",
      "source": [
        "(1 - data_raw['target'].value_counts()[0] / (data_raw['target'].value_counts()[0] + data_raw['target'].value_counts()[1])) * 100"
      ],
      "metadata": {
        "colab": {
          "base_uri": "https://localhost:8080/"
        },
        "id": "S9rJ9RDezfk7",
        "outputId": "a47b675e-460d-42a0-e22f-66ded0482717"
      },
      "execution_count": 25,
      "outputs": [
        {
          "output_type": "execute_result",
          "data": {
            "text/plain": [
              "24.93475310575216"
            ]
          },
          "metadata": {},
          "execution_count": 25
        }
      ]
    },
    {
      "cell_type": "markdown",
      "source": [
        "Вычислим основные статистические характеристики:\n",
        "\n",
        "* mean - среднее значение\n",
        "* std - стандартное отклонение\n",
        "* min - минимум\n",
        "* 25% - нижнее значение первого квантиля\n",
        "* 50% - медиана\n",
        "* 75% - верхнее значение первого квантиля\n",
        "* max - максимум"
      ],
      "metadata": {
        "id": "xA9PRgGd0J3Y"
      }
    },
    {
      "cell_type": "code",
      "source": [
        "data_raw.describe()"
      ],
      "metadata": {
        "colab": {
          "base_uri": "https://localhost:8080/",
          "height": 300
        },
        "id": "q6znGfxm6fQd",
        "outputId": "c124abde-35c0-4f53-e396-c35ff7848431"
      },
      "execution_count": 26,
      "outputs": [
        {
          "output_type": "execute_result",
          "data": {
            "text/plain": [
              "       city_development_index  training_hours\n",
              "count            19158.000000    19158.000000\n",
              "mean                 0.828848       65.366896\n",
              "std                  0.123362       60.058462\n",
              "min                  0.448000        1.000000\n",
              "25%                  0.740000       23.000000\n",
              "50%                  0.903000       47.000000\n",
              "75%                  0.920000       88.000000\n",
              "max                  0.949000      336.000000"
            ],
            "text/html": [
              "\n",
              "  <div id=\"df-5b3877c1-34ed-4e7e-b1fa-38483ba47c22\">\n",
              "    <div class=\"colab-df-container\">\n",
              "      <div>\n",
              "<style scoped>\n",
              "    .dataframe tbody tr th:only-of-type {\n",
              "        vertical-align: middle;\n",
              "    }\n",
              "\n",
              "    .dataframe tbody tr th {\n",
              "        vertical-align: top;\n",
              "    }\n",
              "\n",
              "    .dataframe thead th {\n",
              "        text-align: right;\n",
              "    }\n",
              "</style>\n",
              "<table border=\"1\" class=\"dataframe\">\n",
              "  <thead>\n",
              "    <tr style=\"text-align: right;\">\n",
              "      <th></th>\n",
              "      <th>city_development_index</th>\n",
              "      <th>training_hours</th>\n",
              "    </tr>\n",
              "  </thead>\n",
              "  <tbody>\n",
              "    <tr>\n",
              "      <th>count</th>\n",
              "      <td>19158.000000</td>\n",
              "      <td>19158.000000</td>\n",
              "    </tr>\n",
              "    <tr>\n",
              "      <th>mean</th>\n",
              "      <td>0.828848</td>\n",
              "      <td>65.366896</td>\n",
              "    </tr>\n",
              "    <tr>\n",
              "      <th>std</th>\n",
              "      <td>0.123362</td>\n",
              "      <td>60.058462</td>\n",
              "    </tr>\n",
              "    <tr>\n",
              "      <th>min</th>\n",
              "      <td>0.448000</td>\n",
              "      <td>1.000000</td>\n",
              "    </tr>\n",
              "    <tr>\n",
              "      <th>25%</th>\n",
              "      <td>0.740000</td>\n",
              "      <td>23.000000</td>\n",
              "    </tr>\n",
              "    <tr>\n",
              "      <th>50%</th>\n",
              "      <td>0.903000</td>\n",
              "      <td>47.000000</td>\n",
              "    </tr>\n",
              "    <tr>\n",
              "      <th>75%</th>\n",
              "      <td>0.920000</td>\n",
              "      <td>88.000000</td>\n",
              "    </tr>\n",
              "    <tr>\n",
              "      <th>max</th>\n",
              "      <td>0.949000</td>\n",
              "      <td>336.000000</td>\n",
              "    </tr>\n",
              "  </tbody>\n",
              "</table>\n",
              "</div>\n",
              "      <button class=\"colab-df-convert\" onclick=\"convertToInteractive('df-5b3877c1-34ed-4e7e-b1fa-38483ba47c22')\"\n",
              "              title=\"Convert this dataframe to an interactive table.\"\n",
              "              style=\"display:none;\">\n",
              "        \n",
              "  <svg xmlns=\"http://www.w3.org/2000/svg\" height=\"24px\"viewBox=\"0 0 24 24\"\n",
              "       width=\"24px\">\n",
              "    <path d=\"M0 0h24v24H0V0z\" fill=\"none\"/>\n",
              "    <path d=\"M18.56 5.44l.94 2.06.94-2.06 2.06-.94-2.06-.94-.94-2.06-.94 2.06-2.06.94zm-11 1L8.5 8.5l.94-2.06 2.06-.94-2.06-.94L8.5 2.5l-.94 2.06-2.06.94zm10 10l.94 2.06.94-2.06 2.06-.94-2.06-.94-.94-2.06-.94 2.06-2.06.94z\"/><path d=\"M17.41 7.96l-1.37-1.37c-.4-.4-.92-.59-1.43-.59-.52 0-1.04.2-1.43.59L10.3 9.45l-7.72 7.72c-.78.78-.78 2.05 0 2.83L4 21.41c.39.39.9.59 1.41.59.51 0 1.02-.2 1.41-.59l7.78-7.78 2.81-2.81c.8-.78.8-2.07 0-2.86zM5.41 20L4 18.59l7.72-7.72 1.47 1.35L5.41 20z\"/>\n",
              "  </svg>\n",
              "      </button>\n",
              "      \n",
              "  <style>\n",
              "    .colab-df-container {\n",
              "      display:flex;\n",
              "      flex-wrap:wrap;\n",
              "      gap: 12px;\n",
              "    }\n",
              "\n",
              "    .colab-df-convert {\n",
              "      background-color: #E8F0FE;\n",
              "      border: none;\n",
              "      border-radius: 50%;\n",
              "      cursor: pointer;\n",
              "      display: none;\n",
              "      fill: #1967D2;\n",
              "      height: 32px;\n",
              "      padding: 0 0 0 0;\n",
              "      width: 32px;\n",
              "    }\n",
              "\n",
              "    .colab-df-convert:hover {\n",
              "      background-color: #E2EBFA;\n",
              "      box-shadow: 0px 1px 2px rgba(60, 64, 67, 0.3), 0px 1px 3px 1px rgba(60, 64, 67, 0.15);\n",
              "      fill: #174EA6;\n",
              "    }\n",
              "\n",
              "    [theme=dark] .colab-df-convert {\n",
              "      background-color: #3B4455;\n",
              "      fill: #D2E3FC;\n",
              "    }\n",
              "\n",
              "    [theme=dark] .colab-df-convert:hover {\n",
              "      background-color: #434B5C;\n",
              "      box-shadow: 0px 1px 3px 1px rgba(0, 0, 0, 0.15);\n",
              "      filter: drop-shadow(0px 1px 2px rgba(0, 0, 0, 0.3));\n",
              "      fill: #FFFFFF;\n",
              "    }\n",
              "  </style>\n",
              "\n",
              "      <script>\n",
              "        const buttonEl =\n",
              "          document.querySelector('#df-5b3877c1-34ed-4e7e-b1fa-38483ba47c22 button.colab-df-convert');\n",
              "        buttonEl.style.display =\n",
              "          google.colab.kernel.accessAllowed ? 'block' : 'none';\n",
              "\n",
              "        async function convertToInteractive(key) {\n",
              "          const element = document.querySelector('#df-5b3877c1-34ed-4e7e-b1fa-38483ba47c22');\n",
              "          const dataTable =\n",
              "            await google.colab.kernel.invokeFunction('convertToInteractive',\n",
              "                                                     [key], {});\n",
              "          if (!dataTable) return;\n",
              "\n",
              "          const docLinkHtml = 'Like what you see? Visit the ' +\n",
              "            '<a target=\"_blank\" href=https://colab.research.google.com/notebooks/data_table.ipynb>data table notebook</a>'\n",
              "            + ' to learn more about interactive tables.';\n",
              "          element.innerHTML = '';\n",
              "          dataTable['output_type'] = 'display_data';\n",
              "          await google.colab.output.renderOutput(dataTable, element);\n",
              "          const docLink = document.createElement('div');\n",
              "          docLink.innerHTML = docLinkHtml;\n",
              "          element.appendChild(docLink);\n",
              "        }\n",
              "      </script>\n",
              "    </div>\n",
              "  </div>\n",
              "  "
            ]
          },
          "metadata": {},
          "execution_count": 26
        }
      ]
    },
    {
      "cell_type": "markdown",
      "source": [
        "**city_development_index:**\n",
        "\n",
        "На основе полученных данных можно увидеть, что кандидаты на работу из достаточно развитых городов (среднее значение развития городов, из которых кандидаты - 0.828848)\n",
        "\n",
        "**training_hours**:\t\n",
        "\n",
        "В среднем кандидаты обучались 65 часов, при этом 50% обучались 47 часов или меньше, а 75% - 88 часов и меньше. Значит, существует небольшое количество людей, которые обучались очень большое количество часов по сравнению с основным количеством кандидатов). Максимальное количество часов - 336."
      ],
      "metadata": {
        "id": "9swmX4fV6uTh"
      }
    },
    {
      "cell_type": "markdown",
      "source": [
        "**Борьба с выбросами**\n",
        "\n",
        "Представим данные в виде ящика с усами.\n",
        "\n",
        "\n",
        "Ящик с усами (бокс-диаграмма) - это один из возможных способов визуального представления распределения. Нижний и верхний концы ящика соответствуют 1-му и 3-му квартилям (25% и 75% квантилям соответственно), а горизонтальная линия внутри ящика - медиане. Верхний ус продолжается вверх вплоть до максимального значения, но не выше 1.5 межквартильного расстояния от верхней кромки ящика. Аналогично нижний ус - продолжается вниз до минимального значения, но не ниже 1.5 межквартильных расстояний от нижней кромки ящика. На концах усов ставятся небольшие зарубки. За пределами усов значения изображаются в виде отдельных точек - эти значения можно считать выбросами."
      ],
      "metadata": {
        "id": "8p3gU4BW_hKr"
      }
    },
    {
      "cell_type": "code",
      "source": [
        "data_raw['city_development_index'].plot(kind='box')\n",
        "pass"
      ],
      "metadata": {
        "colab": {
          "base_uri": "https://localhost:8080/",
          "height": 266
        },
        "id": "avzfP2i5Azky",
        "outputId": "e6010f7f-6d78-4026-ce1d-5dfce7722a64"
      },
      "execution_count": 27,
      "outputs": [
        {
          "output_type": "display_data",
          "data": {
            "text/plain": [
              "<Figure size 432x288 with 1 Axes>"
            ],
            "image/png": "[encoded data removed]"
          },
          "metadata": {
            "needs_background": "light"
          }
        }
      ]
    },
    {
      "cell_type": "code",
      "source": [
        "data_raw['city_development_index'].quantile([0.005,.01,.05,.1,.5,.9,.95,.99,.995])"
      ],
      "metadata": {
        "colab": {
          "base_uri": "https://localhost:8080/"
        },
        "id": "X8uhe5vBGJBF",
        "outputId": "a31822d3-6269-4eb4-898e-fdff7dc80836"
      },
      "execution_count": 28,
      "outputs": [
        {
          "output_type": "execute_result",
          "data": {
            "text/plain": [
              "0.005    0.527\n",
              "0.010    0.550\n",
              "0.050    0.624\n",
              "0.100    0.624\n",
              "0.500    0.903\n",
              "0.900    0.925\n",
              "0.950    0.926\n",
              "0.990    0.939\n",
              "0.995    0.939\n",
              "Name: city_development_index, dtype: float64"
            ]
          },
          "metadata": {},
          "execution_count": 28
        }
      ]
    },
    {
      "cell_type": "markdown",
      "source": [
        "$99\\%$ всех значений `'city_development_index'` находится в диапазоне от $0.527$ до $0.939$ кв. м."
      ],
      "metadata": {
        "id": "Z-BMZS6rGyfk"
      }
    },
    {
      "cell_type": "markdown",
      "source": [
        "Удалим все строки таблицы, в которых `'city_development_index'`выходят за пределы квантилей $0.005$, $0.995$."
      ],
      "metadata": {
        "id": "i7EW4pVNHK55"
      }
    },
    {
      "cell_type": "code",
      "source": [
        "rows_to_drop = data_raw[\n",
        "    (data_raw['city_development_index'] < data_raw['city_development_index'].quantile(0.005)) | (data_raw['city_development_index'] > data_raw['city_development_index'].quantile(0.995))].index\n",
        "data = data_raw.drop(rows_to_drop)\n",
        "data.shape"
      ],
      "metadata": {
        "colab": {
          "base_uri": "https://localhost:8080/"
        },
        "id": "BSqqJwoRGROc",
        "outputId": "65451e2b-1db2-4841-8304-876dab06466c"
      },
      "execution_count": 29,
      "outputs": [
        {
          "output_type": "execute_result",
          "data": {
            "text/plain": [
              "(18993, 14)"
            ]
          },
          "metadata": {},
          "execution_count": 29
        }
      ]
    },
    {
      "cell_type": "code",
      "source": [
        "data_raw['training_hours'].plot(kind='box')\n",
        "pass"
      ],
      "metadata": {
        "colab": {
          "base_uri": "https://localhost:8080/",
          "height": 269
        },
        "id": "dSzWviDo_3xt",
        "outputId": "71a37df2-275f-4ab9-bb94-54a9268f057a"
      },
      "execution_count": 30,
      "outputs": [
        {
          "output_type": "display_data",
          "data": {
            "text/plain": [
              "<Figure size 432x288 with 1 Axes>"
            ],
            "image/png": "[encoded data removed]"
          },
          "metadata": {
            "needs_background": "light"
          }
        }
      ]
    },
    {
      "cell_type": "code",
      "source": [
        "data_raw['training_hours'].quantile([0.005,.01,.05,.1,.5,.9,.95,.99,.995])"
      ],
      "metadata": {
        "colab": {
          "base_uri": "https://localhost:8080/"
        },
        "id": "b52o24vtAYU4",
        "outputId": "475ef2ba-a15f-42c2-fa85-427df2190078"
      },
      "execution_count": 31,
      "outputs": [
        {
          "output_type": "execute_result",
          "data": {
            "text/plain": [
              "0.005      2.0\n",
              "0.010      3.0\n",
              "0.050      7.0\n",
              "0.100     11.0\n",
              "0.500     47.0\n",
              "0.900    146.0\n",
              "0.950    188.0\n",
              "0.990    302.0\n",
              "0.995    320.0\n",
              "Name: training_hours, dtype: float64"
            ]
          },
          "metadata": {},
          "execution_count": 31
        }
      ]
    },
    {
      "cell_type": "markdown",
      "source": [
        "Для этого признака нельзя сказать, что значения training_hours, которые больше верхнего значения первого квантиля, являются выбросами, скорее это обусловлено реальной ситуацией, что малое количество людей много и систематично обучаются, а большое количество людей проходили только \"основы основ\".\n",
        "\n",
        "На гистограмме представлено количество кандитатов в зависимости от количества часов обучения."
      ],
      "metadata": {
        "id": "KgkKRAHFCZ8f"
      }
    },
    {
      "cell_type": "code",
      "source": [
        "sns.displot(data['training_hours'], bins=30, kde=True)\n",
        "plt.grid()\n",
        "pass"
      ],
      "metadata": {
        "colab": {
          "base_uri": "https://localhost:8080/",
          "height": 369
        },
        "id": "ha9HR_6jCeG9",
        "outputId": "d024ec2b-9a68-4493-821c-2820a303530c"
      },
      "execution_count": 32,
      "outputs": [
        {
          "output_type": "display_data",
          "data": {
            "text/plain": [
              "<Figure size 360x360 with 1 Axes>"
            ],
            "image/png": "[encoded data removed]"
          },
          "metadata": {
            "needs_background": "light"
          }
        }
      ]
    },
    {
      "cell_type": "markdown",
      "source": [
        "Можно вычислить матрицу корреляции для количественных признаков:"
      ],
      "metadata": {
        "id": "7cDp2gcoEOae"
      }
    },
    {
      "cell_type": "code",
      "source": [
        "corr_mat = data_raw.corr()\n",
        "corr_mat"
      ],
      "metadata": {
        "colab": {
          "base_uri": "https://localhost:8080/",
          "height": 112
        },
        "id": "UrEzDpGkFAC_",
        "outputId": "056118e7-14c5-4b6f-e2aa-db0c3bd3d8c8"
      },
      "execution_count": 33,
      "outputs": [
        {
          "output_type": "execute_result",
          "data": {
            "text/plain": [
              "                        city_development_index  training_hours\n",
              "city_development_index                 1.00000         0.00192\n",
              "training_hours                         0.00192         1.00000"
            ],
            "text/html": [
              "\n",
              "  <div id=\"df-5ece8cdd-d542-44e3-8b36-a304f8d9136c\">\n",
              "    <div class=\"colab-df-container\">\n",
              "      <div>\n",
              "<style scoped>\n",
              "    .dataframe tbody tr th:only-of-type {\n",
              "        vertical-align: middle;\n",
              "    }\n",
              "\n",
              "    .dataframe tbody tr th {\n",
              "        vertical-align: top;\n",
              "    }\n",
              "\n",
              "    .dataframe thead th {\n",
              "        text-align: right;\n",
              "    }\n",
              "</style>\n",
              "<table border=\"1\" class=\"dataframe\">\n",
              "  <thead>\n",
              "    <tr style=\"text-align: right;\">\n",
              "      <th></th>\n",
              "      <th>city_development_index</th>\n",
              "      <th>training_hours</th>\n",
              "    </tr>\n",
              "  </thead>\n",
              "  <tbody>\n",
              "    <tr>\n",
              "      <th>city_development_index</th>\n",
              "      <td>1.00000</td>\n",
              "      <td>0.00192</td>\n",
              "    </tr>\n",
              "    <tr>\n",
              "      <th>training_hours</th>\n",
              "      <td>0.00192</td>\n",
              "      <td>1.00000</td>\n",
              "    </tr>\n",
              "  </tbody>\n",
              "</table>\n",
              "</div>\n",
              "      <button class=\"colab-df-convert\" onclick=\"convertToInteractive('df-5ece8cdd-d542-44e3-8b36-a304f8d9136c')\"\n",
              "              title=\"Convert this dataframe to an interactive table.\"\n",
              "              style=\"display:none;\">\n",
              "        \n",
              "  <svg xmlns=\"http://www.w3.org/2000/svg\" height=\"24px\"viewBox=\"0 0 24 24\"\n",
              "       width=\"24px\">\n",
              "    <path d=\"M0 0h24v24H0V0z\" fill=\"none\"/>\n",
              "    <path d=\"M18.56 5.44l.94 2.06.94-2.06 2.06-.94-2.06-.94-.94-2.06-.94 2.06-2.06.94zm-11 1L8.5 8.5l.94-2.06 2.06-.94-2.06-.94L8.5 2.5l-.94 2.06-2.06.94zm10 10l.94 2.06.94-2.06 2.06-.94-2.06-.94-.94-2.06-.94 2.06-2.06.94z\"/><path d=\"M17.41 7.96l-1.37-1.37c-.4-.4-.92-.59-1.43-.59-.52 0-1.04.2-1.43.59L10.3 9.45l-7.72 7.72c-.78.78-.78 2.05 0 2.83L4 21.41c.39.39.9.59 1.41.59.51 0 1.02-.2 1.41-.59l7.78-7.78 2.81-2.81c.8-.78.8-2.07 0-2.86zM5.41 20L4 18.59l7.72-7.72 1.47 1.35L5.41 20z\"/>\n",
              "  </svg>\n",
              "      </button>\n",
              "      \n",
              "  <style>\n",
              "    .colab-df-container {\n",
              "      display:flex;\n",
              "      flex-wrap:wrap;\n",
              "      gap: 12px;\n",
              "    }\n",
              "\n",
              "    .colab-df-convert {\n",
              "      background-color: #E8F0FE;\n",
              "      border: none;\n",
              "      border-radius: 50%;\n",
              "      cursor: pointer;\n",
              "      display: none;\n",
              "      fill: #1967D2;\n",
              "      height: 32px;\n",
              "      padding: 0 0 0 0;\n",
              "      width: 32px;\n",
              "    }\n",
              "\n",
              "    .colab-df-convert:hover {\n",
              "      background-color: #E2EBFA;\n",
              "      box-shadow: 0px 1px 2px rgba(60, 64, 67, 0.3), 0px 1px 3px 1px rgba(60, 64, 67, 0.15);\n",
              "      fill: #174EA6;\n",
              "    }\n",
              "\n",
              "    [theme=dark] .colab-df-convert {\n",
              "      background-color: #3B4455;\n",
              "      fill: #D2E3FC;\n",
              "    }\n",
              "\n",
              "    [theme=dark] .colab-df-convert:hover {\n",
              "      background-color: #434B5C;\n",
              "      box-shadow: 0px 1px 3px 1px rgba(0, 0, 0, 0.15);\n",
              "      filter: drop-shadow(0px 1px 2px rgba(0, 0, 0, 0.3));\n",
              "      fill: #FFFFFF;\n",
              "    }\n",
              "  </style>\n",
              "\n",
              "      <script>\n",
              "        const buttonEl =\n",
              "          document.querySelector('#df-5ece8cdd-d542-44e3-8b36-a304f8d9136c button.colab-df-convert');\n",
              "        buttonEl.style.display =\n",
              "          google.colab.kernel.accessAllowed ? 'block' : 'none';\n",
              "\n",
              "        async function convertToInteractive(key) {\n",
              "          const element = document.querySelector('#df-5ece8cdd-d542-44e3-8b36-a304f8d9136c');\n",
              "          const dataTable =\n",
              "            await google.colab.kernel.invokeFunction('convertToInteractive',\n",
              "                                                     [key], {});\n",
              "          if (!dataTable) return;\n",
              "\n",
              "          const docLinkHtml = 'Like what you see? Visit the ' +\n",
              "            '<a target=\"_blank\" href=https://colab.research.google.com/notebooks/data_table.ipynb>data table notebook</a>'\n",
              "            + ' to learn more about interactive tables.';\n",
              "          element.innerHTML = '';\n",
              "          dataTable['output_type'] = 'display_data';\n",
              "          await google.colab.output.renderOutput(dataTable, element);\n",
              "          const docLink = document.createElement('div');\n",
              "          docLink.innerHTML = docLinkHtml;\n",
              "          element.appendChild(docLink);\n",
              "        }\n",
              "      </script>\n",
              "    </div>\n",
              "  </div>\n",
              "  "
            ]
          },
          "metadata": {},
          "execution_count": 33
        }
      ]
    },
    {
      "cell_type": "markdown",
      "source": [
        "В цветном формате:"
      ],
      "metadata": {
        "id": "bL38CvOwHjnW"
      }
    },
    {
      "cell_type": "code",
      "source": [
        "sns.heatmap(corr_mat, square=True, annot=True, fmt='.2f', vmin=-1, vmax=1, cmap='coolwarm')\n",
        "pass"
      ],
      "metadata": {
        "colab": {
          "base_uri": "https://localhost:8080/",
          "height": 273
        },
        "id": "Acryv1OWFGyE",
        "outputId": "a1e5e7ce-01c7-4044-efed-22be237be4a7"
      },
      "execution_count": 34,
      "outputs": [
        {
          "output_type": "display_data",
          "data": {
            "text/plain": [
              "<Figure size 432x288 with 2 Axes>"
            ],
            "image/png": "[encoded data removed]"
          },
          "metadata": {
            "needs_background": "light"
          }
        }
      ]
    },
    {
      "cell_type": "markdown",
      "source": [
        "Вывод: корреляция между количественными признаками отсутствует."
      ],
      "metadata": {
        "id": "lZHNOLtQMBR9"
      }
    },
    {
      "cell_type": "markdown",
      "source": [
        "Далее рассмотрим категориальные признаки.\n",
        "\n",
        "Посмотрим, сколько раз некоторые номинальные переменные принимают то или иное значение."
      ],
      "metadata": {
        "id": "wTrutktuILnZ"
      }
    },
    {
      "cell_type": "code",
      "source": [
        "data_raw['city'].value_counts() "
      ],
      "metadata": {
        "colab": {
          "base_uri": "https://localhost:8080/"
        },
        "id": "l30InteFIkE-",
        "outputId": "3f881bf4-99f6-45ca-e003-9c3c031eb568"
      },
      "execution_count": 35,
      "outputs": [
        {
          "output_type": "execute_result",
          "data": {
            "text/plain": [
              "city_103    4355\n",
              "city_21     2702\n",
              "city_16     1533\n",
              "city_114    1336\n",
              "city_160     845\n",
              "            ... \n",
              "city_111       3\n",
              "city_129       3\n",
              "city_121       3\n",
              "city_171       1\n",
              "city_140       1\n",
              "Name: city, Length: 123, dtype: int64"
            ]
          },
          "metadata": {},
          "execution_count": 35
        }
      ]
    },
    {
      "cell_type": "code",
      "source": [
        "sns.countplot(x='city', data=data_raw)\n",
        "pass"
      ],
      "metadata": {
        "colab": {
          "base_uri": "https://localhost:8080/",
          "height": 280
        },
        "id": "l3tTXUhWIyTA",
        "outputId": "b0b27f7d-920d-4184-ea89-acad084892ff"
      },
      "execution_count": 36,
      "outputs": [
        {
          "output_type": "display_data",
          "data": {
            "text/plain": [
              "<Figure size 432x288 with 1 Axes>"
            ],
            "image/png": "[encoded data removed]"
          },
          "metadata": {
            "needs_background": "light"
          }
        }
      ]
    },
    {
      "cell_type": "markdown",
      "source": [
        "По гистограмме можно понять, что бо'льшая часть кандидатов из 4-6 городов - скорее всего, это крупные города-миллионники."
      ],
      "metadata": {
        "id": "cLt5nBSjI-c0"
      }
    },
    {
      "cell_type": "code",
      "source": [
        "data_raw['gender'].value_counts() "
      ],
      "metadata": {
        "colab": {
          "base_uri": "https://localhost:8080/"
        },
        "id": "8-gD2aJkJgsX",
        "outputId": "3773fdae-9e02-49c6-b3d1-6d493c8df516"
      },
      "execution_count": 37,
      "outputs": [
        {
          "output_type": "execute_result",
          "data": {
            "text/plain": [
              "Male      13221\n",
              "Female     1238\n",
              "Other       191\n",
              "Name: gender, dtype: int64"
            ]
          },
          "metadata": {},
          "execution_count": 37
        }
      ]
    },
    {
      "cell_type": "code",
      "source": [
        "sns.countplot(x='gender', data=data_raw)\n",
        "pass"
      ],
      "metadata": {
        "colab": {
          "base_uri": "https://localhost:8080/",
          "height": 279
        },
        "id": "IZ1xcHsHJ0uj",
        "outputId": "bcf62e87-122a-473d-c24e-1c6673bb07f3"
      },
      "execution_count": 38,
      "outputs": [
        {
          "output_type": "display_data",
          "data": {
            "text/plain": [
              "<Figure size 432x288 with 1 Axes>"
            ],
            "image/png": "[encoded data removed]"
          },
          "metadata": {
            "needs_background": "light"
          }
        }
      ]
    },
    {
      "cell_type": "markdown",
      "source": [
        "Больше всего кандидатов - мужчины, примерно в 7 раз больше, чем женщин."
      ],
      "metadata": {
        "id": "exzQaKuQJ5Bk"
      }
    },
    {
      "cell_type": "code",
      "source": [
        "data_raw['relevent_experience'].value_counts() "
      ],
      "metadata": {
        "colab": {
          "base_uri": "https://localhost:8080/"
        },
        "id": "N1HUK2gzKV-A",
        "outputId": "b8e752b5-ca53-4bb2-c11e-d6f162dd9aab"
      },
      "execution_count": 39,
      "outputs": [
        {
          "output_type": "execute_result",
          "data": {
            "text/plain": [
              "Has relevent experience    13792\n",
              "No relevent experience      5366\n",
              "Name: relevent_experience, dtype: int64"
            ]
          },
          "metadata": {},
          "execution_count": 39
        }
      ]
    },
    {
      "cell_type": "code",
      "source": [
        "sns.countplot(x='relevent_experience', data=data_raw)\n",
        "pass"
      ],
      "metadata": {
        "colab": {
          "base_uri": "https://localhost:8080/",
          "height": 280
        },
        "id": "ogU_fJobKcoO",
        "outputId": "b8023e77-91c6-435f-918f-2c1dafce17f9"
      },
      "execution_count": 40,
      "outputs": [
        {
          "output_type": "display_data",
          "data": {
            "text/plain": [
              "<Figure size 432x288 with 1 Axes>"
            ],
            "image/png": "[encoded data removed]"
          },
          "metadata": {
            "needs_background": "light"
          }
        }
      ]
    },
    {
      "cell_type": "markdown",
      "source": [
        "Примерно 2/3 кандидатов ответили, что имеют соответствующий опыт."
      ],
      "metadata": {
        "id": "EUR-KXCJJ-aK"
      }
    },
    {
      "cell_type": "code",
      "source": [
        "data_raw['experience'].value_counts() "
      ],
      "metadata": {
        "colab": {
          "base_uri": "https://localhost:8080/"
        },
        "id": "Usep2lWGKult",
        "outputId": "f7e08aeb-4c11-465f-ea82-a386ae1c60e0"
      },
      "execution_count": 41,
      "outputs": [
        {
          "output_type": "execute_result",
          "data": {
            "text/plain": [
              ">20    3286\n",
              "5      1430\n",
              "4      1403\n",
              "3      1354\n",
              "6      1216\n",
              "2      1127\n",
              "7      1028\n",
              "10      985\n",
              "9       980\n",
              "8       802\n",
              "15      686\n",
              "11      664\n",
              "14      586\n",
              "1       549\n",
              "<1      522\n",
              "16      508\n",
              "12      494\n",
              "13      399\n",
              "17      342\n",
              "19      304\n",
              "18      280\n",
              "20      148\n",
              "Name: experience, dtype: int64"
            ]
          },
          "metadata": {},
          "execution_count": 41
        }
      ]
    },
    {
      "cell_type": "code",
      "source": [
        "sns.countplot(x='experience', data=data_raw)\n",
        "pass"
      ],
      "metadata": {
        "colab": {
          "base_uri": "https://localhost:8080/",
          "height": 279
        },
        "id": "HIkViWLiK-IC",
        "outputId": "37139668-a0c8-498e-ad19-c0ba57570e1d"
      },
      "execution_count": 42,
      "outputs": [
        {
          "output_type": "display_data",
          "data": {
            "text/plain": [
              "<Figure size 432x288 with 1 Axes>"
            ],
            "image/png": "[encoded data removed]"
          },
          "metadata": {
            "needs_background": "light"
          }
        }
      ]
    },
    {
      "cell_type": "markdown",
      "source": [
        "Больше всего кандидатов, которые имеют стаж >20 лет."
      ],
      "metadata": {
        "id": "FdD32MXwLC0V"
      }
    },
    {
      "cell_type": "markdown",
      "source": [
        "# 3. Обработка пропущенных значений"
      ],
      "metadata": {
        "id": "aqOBLHhuMRdV"
      }
    },
    {
      "cell_type": "markdown",
      "source": [
        "Пропущенные значения в таблице представлены значениями np.nan."
      ],
      "metadata": {
        "id": "3voVlApGMUun"
      }
    },
    {
      "cell_type": "code",
      "source": [
        "data_raw.isna().sum()"
      ],
      "metadata": {
        "colab": {
          "base_uri": "https://localhost:8080/"
        },
        "id": "ikI1S0i6Mavc",
        "outputId": "9eb371c0-b5fb-4c20-9160-375894d4800b"
      },
      "execution_count": 43,
      "outputs": [
        {
          "output_type": "execute_result",
          "data": {
            "text/plain": [
              "enrollee_id                  0\n",
              "city                         0\n",
              "city_development_index       0\n",
              "gender                    4508\n",
              "relevent_experience          0\n",
              "enrolled_university        386\n",
              "education_level            460\n",
              "major_discipline          2813\n",
              "experience                  65\n",
              "company_size              5938\n",
              "company_type              6140\n",
              "last_new_job               423\n",
              "training_hours               0\n",
              "target                       0\n",
              "dtype: int64"
            ]
          },
          "metadata": {},
          "execution_count": 43
        }
      ]
    },
    {
      "cell_type": "markdown",
      "source": [
        "Посчитаем, какое количество пропущенных значений в датасете:"
      ],
      "metadata": {
        "id": "nQADgIsEMrLA"
      }
    },
    {
      "cell_type": "code",
      "source": [
        "sum_missing_cells = data_raw[\"gender\"].isna().sum() + data_raw[\"enrolled_university\"].isna().sum() + data_raw[\"education_level\"].isna().sum() + data_raw[\"major_discipline\"].isna().sum() + data_raw[\"experience\"].isna().sum() + data_raw[\"company_size\"].isna().sum() + data_raw[\"company_type\"].isna().sum() + data_raw[\"last_new_job\"].isna().sum()\n",
        "sum_missing_cells"
      ],
      "metadata": {
        "colab": {
          "base_uri": "https://localhost:8080/"
        },
        "id": "5QASxSDLM0AD",
        "outputId": "6f02700f-de1d-488e-ccf4-64cbc87abd47"
      },
      "execution_count": 44,
      "outputs": [
        {
          "output_type": "execute_result",
          "data": {
            "text/plain": [
              "20733"
            ]
          },
          "metadata": {},
          "execution_count": 44
        }
      ]
    },
    {
      "cell_type": "markdown",
      "source": [
        "Количество пропущенных значений в %:"
      ],
      "metadata": {
        "id": "01N7NH7zPvCf"
      }
    },
    {
      "cell_type": "code",
      "source": [
        "percent_missing_cells = (sum_missing_cells) / (data_raw.shape[0] * data_raw.shape[1]) * 100\n",
        "percent_missing_cells"
      ],
      "metadata": {
        "colab": {
          "base_uri": "https://localhost:8080/"
        },
        "id": "ao0HoqO5Okkv",
        "outputId": "55f96cff-4816-47c9-ae40-156c362b052d"
      },
      "execution_count": 45,
      "outputs": [
        {
          "output_type": "execute_result",
          "data": {
            "text/plain": [
              "7.730079191087647"
            ]
          },
          "metadata": {},
          "execution_count": 45
        }
      ]
    },
    {
      "cell_type": "markdown",
      "source": [
        "Заметим, что пропущенные значения присутствуют только в номинальных признаках."
      ],
      "metadata": {
        "id": "bWZIAsiBP3-m"
      }
    },
    {
      "cell_type": "markdown",
      "source": [
        "Категориальные пропущенные значения заменим модой:"
      ],
      "metadata": {
        "id": "TW8FLap8QFG5"
      }
    },
    {
      "cell_type": "code",
      "source": [
        "data_raw['gender'].fillna(data_raw['gender'].mode().iloc[0], inplace=True)\n",
        "data_raw['enrolled_university'].fillna(data_raw['enrolled_university'].mode().iloc[0], inplace=True)\n",
        "data_raw['education_level'].fillna(data_raw['education_level'].mode().iloc[0], inplace=True)\n",
        "data_raw['major_discipline'].fillna(data_raw['major_discipline'].mode().iloc[0], inplace=True)\n",
        "data_raw['experience'].fillna(data_raw['experience'].mode().iloc[0], inplace=True)\n",
        "data_raw['company_size'].fillna(data_raw['company_size'].mode().iloc[0], inplace=True)\n",
        "data_raw['company_type'].fillna(data_raw['company_type'].mode().iloc[0], inplace=True)\n",
        "data_raw['last_new_job'].fillna(data_raw['last_new_job'].mode().iloc[0], inplace=True)"
      ],
      "metadata": {
        "id": "qz19BS7XQfK_"
      },
      "execution_count": 46,
      "outputs": []
    },
    {
      "cell_type": "markdown",
      "source": [
        "Посмотрим, чему равна мода соответствующего категориального признака:"
      ],
      "metadata": {
        "id": "1oVCYL4TRKqM"
      }
    },
    {
      "cell_type": "code",
      "source": [
        "data_raw['gender'].mode()"
      ],
      "metadata": {
        "colab": {
          "base_uri": "https://localhost:8080/"
        },
        "id": "Sa8UtQO4RE_C",
        "outputId": "3449b69b-f765-473e-f477-786d874cd6dc"
      },
      "execution_count": 47,
      "outputs": [
        {
          "output_type": "execute_result",
          "data": {
            "text/plain": [
              "0    Male\n",
              "Name: gender, dtype: category\n",
              "Categories (3, object): ['Female', 'Male', 'Other']"
            ]
          },
          "metadata": {},
          "execution_count": 47
        }
      ]
    },
    {
      "cell_type": "markdown",
      "source": [
        "Как было сказано ранее, самое частое значение признака gender - мужчина."
      ],
      "metadata": {
        "id": "FXW9MpSGRowu"
      }
    },
    {
      "cell_type": "code",
      "source": [
        "data_raw['enrolled_university'].mode()"
      ],
      "metadata": {
        "colab": {
          "base_uri": "https://localhost:8080/"
        },
        "id": "ZEo_ESubRTMZ",
        "outputId": "c60654ae-a961-49c3-ce09-4ab372baa4ad"
      },
      "execution_count": 48,
      "outputs": [
        {
          "output_type": "execute_result",
          "data": {
            "text/plain": [
              "0    no_enrollment\n",
              "Name: enrolled_university, dtype: category\n",
              "Categories (3, object): ['Full time course', 'Part time course', 'no_enrollment']"
            ]
          },
          "metadata": {},
          "execution_count": 48
        }
      ]
    },
    {
      "cell_type": "markdown",
      "source": [
        "Самое частое значение - нет зачисления. Это значит, что бо'льшая часть кандидатов не зачислена на какие-либо университетские курсы."
      ],
      "metadata": {
        "id": "WuwCGQsfRv03"
      }
    },
    {
      "cell_type": "code",
      "source": [
        "data_raw['education_level'].mode()"
      ],
      "metadata": {
        "colab": {
          "base_uri": "https://localhost:8080/"
        },
        "id": "GjZ7MQWaRWvA",
        "outputId": "9dc14486-001e-4b5d-c89e-e63143b2c155"
      },
      "execution_count": 49,
      "outputs": [
        {
          "output_type": "execute_result",
          "data": {
            "text/plain": [
              "0    Graduate\n",
              "Name: education_level, dtype: category\n",
              "Categories (5, object): ['Graduate', 'High School', 'Masters', 'Phd', 'Primary School']"
            ]
          },
          "metadata": {},
          "execution_count": 49
        }
      ]
    },
    {
      "cell_type": "markdown",
      "source": [
        "Самое частое значение - выпускник университета.\n",
        "\n",
        "И так далее."
      ],
      "metadata": {
        "id": "xc0J2X9uSORO"
      }
    },
    {
      "cell_type": "markdown",
      "source": [
        "Теперь проверим, что все пропущенные значения заполнены:"
      ],
      "metadata": {
        "id": "H9bHxt1HTLpQ"
      }
    },
    {
      "cell_type": "code",
      "source": [
        "data_raw.isna().sum()"
      ],
      "metadata": {
        "colab": {
          "base_uri": "https://localhost:8080/"
        },
        "id": "DjmvvK52TQQn",
        "outputId": "929ab3f4-4231-4bd8-dfe5-58520d298d4d"
      },
      "execution_count": 50,
      "outputs": [
        {
          "output_type": "execute_result",
          "data": {
            "text/plain": [
              "enrollee_id               0\n",
              "city                      0\n",
              "city_development_index    0\n",
              "gender                    0\n",
              "relevent_experience       0\n",
              "enrolled_university       0\n",
              "education_level           0\n",
              "major_discipline          0\n",
              "experience                0\n",
              "company_size              0\n",
              "company_type              0\n",
              "last_new_job              0\n",
              "training_hours            0\n",
              "target                    0\n",
              "dtype: int64"
            ]
          },
          "metadata": {},
          "execution_count": 50
        }
      ]
    },
    {
      "cell_type": "markdown",
      "source": [
        "# 4. Обработка категориальных признаков."
      ],
      "metadata": {
        "id": "MRDuzmBLUvu8"
      }
    },
    {
      "cell_type": "markdown",
      "source": [
        "Все категориальные признаки, кроме target, являются небинарными. К небинарным категориальным признакам применим метод бинаризации:"
      ],
      "metadata": {
        "id": "5Jy7agGJU18E"
      }
    },
    {
      "cell_type": "code",
      "source": [
        "data_nonbinary = pd.get_dummies(data_raw[['city', 'gender','relevent_experience','enrolled_university','education_level', 'major_discipline', 'experience', 'company_size', 'company_type', 'last_new_job']])\n",
        "print(data_nonbinary.columns)"
      ],
      "metadata": {
        "colab": {
          "base_uri": "https://localhost:8080/"
        },
        "id": "S8PowujpVD6f",
        "outputId": "8a6eeb0c-57d9-41e1-fda3-64bc06283994"
      },
      "execution_count": 51,
      "outputs": [
        {
          "output_type": "stream",
          "name": "stdout",
          "text": [
            "Index(['city_city_1', 'city_city_10', 'city_city_100', 'city_city_101',\n",
            "       'city_city_102', 'city_city_103', 'city_city_104', 'city_city_105',\n",
            "       'city_city_106', 'city_city_107',\n",
            "       ...\n",
            "       'company_type_NGO', 'company_type_Other', 'company_type_Public Sector',\n",
            "       'company_type_Pvt Ltd', 'last_new_job_1', 'last_new_job_2',\n",
            "       'last_new_job_3', 'last_new_job_4', 'last_new_job_>4',\n",
            "       'last_new_job_never'],\n",
            "      dtype='object', length=184)\n"
          ]
        }
      ]
    },
    {
      "cell_type": "code",
      "source": [
        "data_raw = pd.concat((data_raw, data_nonbinary), axis=1).drop(['city', 'gender','relevent_experience','enrolled_university','education_level', 'major_discipline', 'experience', 'company_size', 'company_type', 'last_new_job'], axis=1)"
      ],
      "metadata": {
        "id": "LWqMQv7EVyZX"
      },
      "execution_count": 52,
      "outputs": []
    },
    {
      "cell_type": "markdown",
      "source": [
        "# 5. Проведение нормализации"
      ],
      "metadata": {
        "id": "cAEcSoD_V_fs"
      }
    },
    {
      "cell_type": "markdown",
      "source": [
        "Перед применением алгоритмов машинного обучения количественные признаки полезно нормализовать.\n",
        "\n",
        "Наиболее часто используют один из трех следующих способов:\n",
        "\n",
        "приведение к отрезку  [0,1]  - это линейное преобразование, приводящее все значения к заданному отрезку;\n",
        "стандартизация - линейное преобразование, приводящее все значения к нулевому среднему и единичному стандартному отклонению;\n",
        "нормализация - приведение данных к единичной норме.\n",
        "\n",
        "Выполним стандартизацию всех признаков:"
      ],
      "metadata": {
        "id": "GRspCihJWEVp"
      }
    },
    {
      "cell_type": "code",
      "source": [
        "data_numerical = data_raw[['city_development_index', 'training_hours']]\n",
        "data_numerical.describe()"
      ],
      "metadata": {
        "colab": {
          "base_uri": "https://localhost:8080/",
          "height": 300
        },
        "id": "X66H9P04XBYs",
        "outputId": "2f48681b-45fe-4dca-ea80-fd17241da0e1"
      },
      "execution_count": 53,
      "outputs": [
        {
          "output_type": "execute_result",
          "data": {
            "text/plain": [
              "       city_development_index  training_hours\n",
              "count            19158.000000    19158.000000\n",
              "mean                 0.828848       65.366896\n",
              "std                  0.123362       60.058462\n",
              "min                  0.448000        1.000000\n",
              "25%                  0.740000       23.000000\n",
              "50%                  0.903000       47.000000\n",
              "75%                  0.920000       88.000000\n",
              "max                  0.949000      336.000000"
            ],
            "text/html": [
              "\n",
              "  <div id=\"df-ac210441-f6a7-40a9-815e-5239b8c86181\">\n",
              "    <div class=\"colab-df-container\">\n",
              "      <div>\n",
              "<style scoped>\n",
              "    .dataframe tbody tr th:only-of-type {\n",
              "        vertical-align: middle;\n",
              "    }\n",
              "\n",
              "    .dataframe tbody tr th {\n",
              "        vertical-align: top;\n",
              "    }\n",
              "\n",
              "    .dataframe thead th {\n",
              "        text-align: right;\n",
              "    }\n",
              "</style>\n",
              "<table border=\"1\" class=\"dataframe\">\n",
              "  <thead>\n",
              "    <tr style=\"text-align: right;\">\n",
              "      <th></th>\n",
              "      <th>city_development_index</th>\n",
              "      <th>training_hours</th>\n",
              "    </tr>\n",
              "  </thead>\n",
              "  <tbody>\n",
              "    <tr>\n",
              "      <th>count</th>\n",
              "      <td>19158.000000</td>\n",
              "      <td>19158.000000</td>\n",
              "    </tr>\n",
              "    <tr>\n",
              "      <th>mean</th>\n",
              "      <td>0.828848</td>\n",
              "      <td>65.366896</td>\n",
              "    </tr>\n",
              "    <tr>\n",
              "      <th>std</th>\n",
              "      <td>0.123362</td>\n",
              "      <td>60.058462</td>\n",
              "    </tr>\n",
              "    <tr>\n",
              "      <th>min</th>\n",
              "      <td>0.448000</td>\n",
              "      <td>1.000000</td>\n",
              "    </tr>\n",
              "    <tr>\n",
              "      <th>25%</th>\n",
              "      <td>0.740000</td>\n",
              "      <td>23.000000</td>\n",
              "    </tr>\n",
              "    <tr>\n",
              "      <th>50%</th>\n",
              "      <td>0.903000</td>\n",
              "      <td>47.000000</td>\n",
              "    </tr>\n",
              "    <tr>\n",
              "      <th>75%</th>\n",
              "      <td>0.920000</td>\n",
              "      <td>88.000000</td>\n",
              "    </tr>\n",
              "    <tr>\n",
              "      <th>max</th>\n",
              "      <td>0.949000</td>\n",
              "      <td>336.000000</td>\n",
              "    </tr>\n",
              "  </tbody>\n",
              "</table>\n",
              "</div>\n",
              "      <button class=\"colab-df-convert\" onclick=\"convertToInteractive('df-ac210441-f6a7-40a9-815e-5239b8c86181')\"\n",
              "              title=\"Convert this dataframe to an interactive table.\"\n",
              "              style=\"display:none;\">\n",
              "        \n",
              "  <svg xmlns=\"http://www.w3.org/2000/svg\" height=\"24px\"viewBox=\"0 0 24 24\"\n",
              "       width=\"24px\">\n",
              "    <path d=\"M0 0h24v24H0V0z\" fill=\"none\"/>\n",
              "    <path d=\"M18.56 5.44l.94 2.06.94-2.06 2.06-.94-2.06-.94-.94-2.06-.94 2.06-2.06.94zm-11 1L8.5 8.5l.94-2.06 2.06-.94-2.06-.94L8.5 2.5l-.94 2.06-2.06.94zm10 10l.94 2.06.94-2.06 2.06-.94-2.06-.94-.94-2.06-.94 2.06-2.06.94z\"/><path d=\"M17.41 7.96l-1.37-1.37c-.4-.4-.92-.59-1.43-.59-.52 0-1.04.2-1.43.59L10.3 9.45l-7.72 7.72c-.78.78-.78 2.05 0 2.83L4 21.41c.39.39.9.59 1.41.59.51 0 1.02-.2 1.41-.59l7.78-7.78 2.81-2.81c.8-.78.8-2.07 0-2.86zM5.41 20L4 18.59l7.72-7.72 1.47 1.35L5.41 20z\"/>\n",
              "  </svg>\n",
              "      </button>\n",
              "      \n",
              "  <style>\n",
              "    .colab-df-container {\n",
              "      display:flex;\n",
              "      flex-wrap:wrap;\n",
              "      gap: 12px;\n",
              "    }\n",
              "\n",
              "    .colab-df-convert {\n",
              "      background-color: #E8F0FE;\n",
              "      border: none;\n",
              "      border-radius: 50%;\n",
              "      cursor: pointer;\n",
              "      display: none;\n",
              "      fill: #1967D2;\n",
              "      height: 32px;\n",
              "      padding: 0 0 0 0;\n",
              "      width: 32px;\n",
              "    }\n",
              "\n",
              "    .colab-df-convert:hover {\n",
              "      background-color: #E2EBFA;\n",
              "      box-shadow: 0px 1px 2px rgba(60, 64, 67, 0.3), 0px 1px 3px 1px rgba(60, 64, 67, 0.15);\n",
              "      fill: #174EA6;\n",
              "    }\n",
              "\n",
              "    [theme=dark] .colab-df-convert {\n",
              "      background-color: #3B4455;\n",
              "      fill: #D2E3FC;\n",
              "    }\n",
              "\n",
              "    [theme=dark] .colab-df-convert:hover {\n",
              "      background-color: #434B5C;\n",
              "      box-shadow: 0px 1px 3px 1px rgba(0, 0, 0, 0.15);\n",
              "      filter: drop-shadow(0px 1px 2px rgba(0, 0, 0, 0.3));\n",
              "      fill: #FFFFFF;\n",
              "    }\n",
              "  </style>\n",
              "\n",
              "      <script>\n",
              "        const buttonEl =\n",
              "          document.querySelector('#df-ac210441-f6a7-40a9-815e-5239b8c86181 button.colab-df-convert');\n",
              "        buttonEl.style.display =\n",
              "          google.colab.kernel.accessAllowed ? 'block' : 'none';\n",
              "\n",
              "        async function convertToInteractive(key) {\n",
              "          const element = document.querySelector('#df-ac210441-f6a7-40a9-815e-5239b8c86181');\n",
              "          const dataTable =\n",
              "            await google.colab.kernel.invokeFunction('convertToInteractive',\n",
              "                                                     [key], {});\n",
              "          if (!dataTable) return;\n",
              "\n",
              "          const docLinkHtml = 'Like what you see? Visit the ' +\n",
              "            '<a target=\"_blank\" href=https://colab.research.google.com/notebooks/data_table.ipynb>data table notebook</a>'\n",
              "            + ' to learn more about interactive tables.';\n",
              "          element.innerHTML = '';\n",
              "          dataTable['output_type'] = 'display_data';\n",
              "          await google.colab.output.renderOutput(dataTable, element);\n",
              "          const docLink = document.createElement('div');\n",
              "          docLink.innerHTML = docLinkHtml;\n",
              "          element.appendChild(docLink);\n",
              "        }\n",
              "      </script>\n",
              "    </div>\n",
              "  </div>\n",
              "  "
            ]
          },
          "metadata": {},
          "execution_count": 53
        }
      ]
    },
    {
      "cell_type": "code",
      "source": [
        "data_numerical = (data_numerical - data_numerical.mean(axis = 0))/data_numerical.std(axis = 0)"
      ],
      "metadata": {
        "id": "7NdWm_09WqW7"
      },
      "execution_count": 54,
      "outputs": []
    },
    {
      "cell_type": "code",
      "source": [
        "data_numerical.describe()"
      ],
      "metadata": {
        "colab": {
          "base_uri": "https://localhost:8080/",
          "height": 300
        },
        "id": "kuerSYdmXBh7",
        "outputId": "f2aa1671-3399-4887-fac2-c51abf09d595"
      },
      "execution_count": 55,
      "outputs": [
        {
          "output_type": "execute_result",
          "data": {
            "text/plain": [
              "       city_development_index  training_hours\n",
              "count            1.915800e+04    1.915800e+04\n",
              "mean            -3.271211e-16   -8.038947e-17\n",
              "std              1.000000e+00    1.000000e+00\n",
              "min             -3.087245e+00   -1.071737e+00\n",
              "25%             -7.202232e-01   -7.054276e-01\n",
              "50%              6.010939e-01   -3.058170e-01\n",
              "75%              7.389000e-01    3.768512e-01\n",
              "max              9.739809e-01    4.506161e+00"
            ],
            "text/html": [
              "\n",
              "  <div id=\"df-b51e6626-2051-4f76-a8f7-d3643816f4aa\">\n",
              "    <div class=\"colab-df-container\">\n",
              "      <div>\n",
              "<style scoped>\n",
              "    .dataframe tbody tr th:only-of-type {\n",
              "        vertical-align: middle;\n",
              "    }\n",
              "\n",
              "    .dataframe tbody tr th {\n",
              "        vertical-align: top;\n",
              "    }\n",
              "\n",
              "    .dataframe thead th {\n",
              "        text-align: right;\n",
              "    }\n",
              "</style>\n",
              "<table border=\"1\" class=\"dataframe\">\n",
              "  <thead>\n",
              "    <tr style=\"text-align: right;\">\n",
              "      <th></th>\n",
              "      <th>city_development_index</th>\n",
              "      <th>training_hours</th>\n",
              "    </tr>\n",
              "  </thead>\n",
              "  <tbody>\n",
              "    <tr>\n",
              "      <th>count</th>\n",
              "      <td>1.915800e+04</td>\n",
              "      <td>1.915800e+04</td>\n",
              "    </tr>\n",
              "    <tr>\n",
              "      <th>mean</th>\n",
              "      <td>-3.271211e-16</td>\n",
              "      <td>-8.038947e-17</td>\n",
              "    </tr>\n",
              "    <tr>\n",
              "      <th>std</th>\n",
              "      <td>1.000000e+00</td>\n",
              "      <td>1.000000e+00</td>\n",
              "    </tr>\n",
              "    <tr>\n",
              "      <th>min</th>\n",
              "      <td>-3.087245e+00</td>\n",
              "      <td>-1.071737e+00</td>\n",
              "    </tr>\n",
              "    <tr>\n",
              "      <th>25%</th>\n",
              "      <td>-7.202232e-01</td>\n",
              "      <td>-7.054276e-01</td>\n",
              "    </tr>\n",
              "    <tr>\n",
              "      <th>50%</th>\n",
              "      <td>6.010939e-01</td>\n",
              "      <td>-3.058170e-01</td>\n",
              "    </tr>\n",
              "    <tr>\n",
              "      <th>75%</th>\n",
              "      <td>7.389000e-01</td>\n",
              "      <td>3.768512e-01</td>\n",
              "    </tr>\n",
              "    <tr>\n",
              "      <th>max</th>\n",
              "      <td>9.739809e-01</td>\n",
              "      <td>4.506161e+00</td>\n",
              "    </tr>\n",
              "  </tbody>\n",
              "</table>\n",
              "</div>\n",
              "      <button class=\"colab-df-convert\" onclick=\"convertToInteractive('df-b51e6626-2051-4f76-a8f7-d3643816f4aa')\"\n",
              "              title=\"Convert this dataframe to an interactive table.\"\n",
              "              style=\"display:none;\">\n",
              "        \n",
              "  <svg xmlns=\"http://www.w3.org/2000/svg\" height=\"24px\"viewBox=\"0 0 24 24\"\n",
              "       width=\"24px\">\n",
              "    <path d=\"M0 0h24v24H0V0z\" fill=\"none\"/>\n",
              "    <path d=\"M18.56 5.44l.94 2.06.94-2.06 2.06-.94-2.06-.94-.94-2.06-.94 2.06-2.06.94zm-11 1L8.5 8.5l.94-2.06 2.06-.94-2.06-.94L8.5 2.5l-.94 2.06-2.06.94zm10 10l.94 2.06.94-2.06 2.06-.94-2.06-.94-.94-2.06-.94 2.06-2.06.94z\"/><path d=\"M17.41 7.96l-1.37-1.37c-.4-.4-.92-.59-1.43-.59-.52 0-1.04.2-1.43.59L10.3 9.45l-7.72 7.72c-.78.78-.78 2.05 0 2.83L4 21.41c.39.39.9.59 1.41.59.51 0 1.02-.2 1.41-.59l7.78-7.78 2.81-2.81c.8-.78.8-2.07 0-2.86zM5.41 20L4 18.59l7.72-7.72 1.47 1.35L5.41 20z\"/>\n",
              "  </svg>\n",
              "      </button>\n",
              "      \n",
              "  <style>\n",
              "    .colab-df-container {\n",
              "      display:flex;\n",
              "      flex-wrap:wrap;\n",
              "      gap: 12px;\n",
              "    }\n",
              "\n",
              "    .colab-df-convert {\n",
              "      background-color: #E8F0FE;\n",
              "      border: none;\n",
              "      border-radius: 50%;\n",
              "      cursor: pointer;\n",
              "      display: none;\n",
              "      fill: #1967D2;\n",
              "      height: 32px;\n",
              "      padding: 0 0 0 0;\n",
              "      width: 32px;\n",
              "    }\n",
              "\n",
              "    .colab-df-convert:hover {\n",
              "      background-color: #E2EBFA;\n",
              "      box-shadow: 0px 1px 2px rgba(60, 64, 67, 0.3), 0px 1px 3px 1px rgba(60, 64, 67, 0.15);\n",
              "      fill: #174EA6;\n",
              "    }\n",
              "\n",
              "    [theme=dark] .colab-df-convert {\n",
              "      background-color: #3B4455;\n",
              "      fill: #D2E3FC;\n",
              "    }\n",
              "\n",
              "    [theme=dark] .colab-df-convert:hover {\n",
              "      background-color: #434B5C;\n",
              "      box-shadow: 0px 1px 3px 1px rgba(0, 0, 0, 0.15);\n",
              "      filter: drop-shadow(0px 1px 2px rgba(0, 0, 0, 0.3));\n",
              "      fill: #FFFFFF;\n",
              "    }\n",
              "  </style>\n",
              "\n",
              "      <script>\n",
              "        const buttonEl =\n",
              "          document.querySelector('#df-b51e6626-2051-4f76-a8f7-d3643816f4aa button.colab-df-convert');\n",
              "        buttonEl.style.display =\n",
              "          google.colab.kernel.accessAllowed ? 'block' : 'none';\n",
              "\n",
              "        async function convertToInteractive(key) {\n",
              "          const element = document.querySelector('#df-b51e6626-2051-4f76-a8f7-d3643816f4aa');\n",
              "          const dataTable =\n",
              "            await google.colab.kernel.invokeFunction('convertToInteractive',\n",
              "                                                     [key], {});\n",
              "          if (!dataTable) return;\n",
              "\n",
              "          const docLinkHtml = 'Like what you see? Visit the ' +\n",
              "            '<a target=\"_blank\" href=https://colab.research.google.com/notebooks/data_table.ipynb>data table notebook</a>'\n",
              "            + ' to learn more about interactive tables.';\n",
              "          element.innerHTML = '';\n",
              "          dataTable['output_type'] = 'display_data';\n",
              "          await google.colab.output.renderOutput(dataTable, element);\n",
              "          const docLink = document.createElement('div');\n",
              "          docLink.innerHTML = docLinkHtml;\n",
              "          element.appendChild(docLink);\n",
              "        }\n",
              "      </script>\n",
              "    </div>\n",
              "  </div>\n",
              "  "
            ]
          },
          "metadata": {},
          "execution_count": 55
        }
      ]
    },
    {
      "cell_type": "code",
      "source": [
        "data_raw.drop(['city_development_index', 'training_hours'], axis=1)\n",
        "data_raw = pd.concat((data_raw, data_numerical), axis=1)"
      ],
      "metadata": {
        "id": "lYVcF5hnZGen"
      },
      "execution_count": 56,
      "outputs": []
    },
    {
      "cell_type": "markdown",
      "source": [
        "# 6. Разбиение данных на обучающую и тестовую выборки"
      ],
      "metadata": {
        "id": "WbqZZvfrZUYh"
      }
    },
    {
      "cell_type": "code",
      "source": [
        "X = data_raw.drop(['target'], axis=1)\n",
        "y = data_raw['target']"
      ],
      "metadata": {
        "id": "4DBQii34Zqvj"
      },
      "execution_count": 57,
      "outputs": []
    },
    {
      "cell_type": "markdown",
      "source": [
        "Разобьем данные на обучающую и тестовую выборки следующим образом: 75% - обучающая выборка, 25% - тестовая."
      ],
      "metadata": {
        "id": "siDjHshsZk41"
      }
    },
    {
      "cell_type": "code",
      "source": [
        "from sklearn.model_selection import train_test_split\n",
        "X_train, X_test, y_train, y_test = train_test_split(X, y, train_size = 0.75, test_size = 0.25, random_state = 42)\n",
        "\n",
        "N_train, _ = X_train.shape\n",
        "N_test,  _ = X_test.shape \n",
        "\n",
        "N_train, N_test"
      ],
      "metadata": {
        "colab": {
          "base_uri": "https://localhost:8080/"
        },
        "id": "_50NFXPLZ5fS",
        "outputId": "c22421c0-dc81-406e-f504-2cabb8a48c31"
      },
      "execution_count": 58,
      "outputs": [
        {
          "output_type": "execute_result",
          "data": {
            "text/plain": [
              "(14368, 4790)"
            ]
          },
          "metadata": {},
          "execution_count": 58
        }
      ]
    },
    {
      "cell_type": "markdown",
      "source": [
        "# 7. Классификатор ближайших соседей (попробовать разное их количество)"
      ],
      "metadata": {
        "id": "tQxoC7HSaOwK"
      }
    },
    {
      "cell_type": "code",
      "source": [
        "from sklearn.neighbors import KNeighborsClassifier\n",
        "from sklearn.model_selection import GridSearchCV\n",
        "\n",
        "k_arr = [1, 2, 3, 4, 5, 6, 7, 8, 9, 10, 12, 14, 16, 18, 20, 25, 35, 45, 55]\n",
        "knn = KNeighborsClassifier()\n",
        "grid = GridSearchCV(knn, param_grid = {'n_neighbors': k_arr}, cv=10)\n",
        "grid.fit(X_train, y_train)\n",
        "\n",
        "best_cv_err = 1 - grid.best_score_\n",
        "best_n_neighbors = grid.best_estimator_.n_neighbors"
      ],
      "metadata": {
        "id": "KH36Raxyazmp"
      },
      "execution_count": 64,
      "outputs": []
    },
    {
      "cell_type": "code",
      "source": [
        "print(best_cv_err, best_n_neighbors)"
      ],
      "metadata": {
        "colab": {
          "base_uri": "https://localhost:8080/"
        },
        "id": "O9m4g250a6DJ",
        "outputId": "adefea34-16a1-403a-be99-cefb3ada4f5c"
      },
      "execution_count": 65,
      "outputs": [
        {
          "output_type": "stream",
          "name": "stdout",
          "text": [
            "0.24979132865397768 55\n"
          ]
        }
      ]
    },
    {
      "cell_type": "markdown",
      "source": [
        "Оптимальное число соседей: 55\n",
        "\n",
        "Ошибка на обучающей выборке: 0.24979132865397768"
      ],
      "metadata": {
        "id": "Jid967uabImo"
      }
    },
    {
      "cell_type": "markdown",
      "source": [
        "# 8. Вычисление ошибок на обучающей и тестовой выборках. Выводы."
      ],
      "metadata": {
        "id": "nWWRQgoabJAL"
      }
    },
    {
      "cell_type": "markdown",
      "source": [],
      "metadata": {
        "id": "Q6TEsoXlbSTk"
      }
    },
    {
      "cell_type": "code",
      "source": [
        "knn = KNeighborsClassifier(n_neighbors = best_n_neighbors).fit(X_train, y_train)\n",
        "\n",
        "err_train = np.mean(y_train != knn.predict(X_train))\n",
        "err_test  = np.mean(y_test  != knn.predict(X_test))\n",
        "\n",
        "print(err_train, err_test)"
      ],
      "metadata": {
        "colab": {
          "base_uri": "https://localhost:8080/"
        },
        "id": "Q4vyYB8RbYzo",
        "outputId": "b39f881f-445b-4ea0-d613-56fa9b96a608"
      },
      "execution_count": 66,
      "outputs": [
        {
          "output_type": "stream",
          "name": "stdout",
          "text": [
            "0.24812082405345212 0.2521920668058455\n"
          ]
        }
      ]
    },
    {
      "cell_type": "markdown",
      "source": [
        "Ошибка на обучающей выборке: 0.24812082405345212\n",
        "\n",
        "Ошибка на тестовой выборке: 0.2521920668058455\n",
        "\n",
        "Ошибка на тестовой выборке чуть больше, чем на обучающей."
      ],
      "metadata": {
        "id": "olBy2-XebZpi"
      }
    },
    {
      "cell_type": "markdown",
      "source": [
        "Построим матрицу рассогласования:"
      ],
      "metadata": {
        "id": "8ALBG3iigrjo"
      }
    },
    {
      "cell_type": "code",
      "source": [
        "from sklearn.metrics import ConfusionMatrixDisplay\n",
        "ConfusionMatrixDisplay.from_estimator(knn, X_test, y_test, cmap=plt.cm.Blues)\n",
        "pass"
      ],
      "metadata": {
        "colab": {
          "base_uri": "https://localhost:8080/",
          "height": 279
        },
        "id": "8DJZlIOJg7ES",
        "outputId": "3da74bd7-7b41-42a1-d951-452a444321e0"
      },
      "execution_count": 70,
      "outputs": [
        {
          "output_type": "display_data",
          "data": {
            "text/plain": [
              "<Figure size 432x288 with 2 Axes>"
            ],
            "image/png": "[encoded data removed]"
          },
          "metadata": {
            "needs_background": "light"
          }
        }
      ]
    },
    {
      "cell_type": "markdown",
      "source": [
        "# 9. Общие выводы"
      ],
      "metadata": {
        "id": "zALa0E8Zcw5m"
      }
    },
    {
      "cell_type": "markdown",
      "source": [
        "Для выполнении задания был использован датасет HR Analytics: Job Change of Data Scientists. Была задача определить, кто из кандидатов, прошедших обучение в компании, хочет работать в этой компании после обучения или ищет новую работу.\n",
        "\n",
        "В ходе работы были выполнены следующие задачи:\n",
        "\n",
        "*  Описана задача\n",
        "*Прочитаны данные\n",
        "*Визуализированы данные и вычислены основные характеристики\n",
        "*Обработаны пропущенные значения\n",
        "*Обработаны категориальные признаки\n",
        "*Проведена нормализация\n",
        "*Данные разбиты на обучающую и тестовую выборки\n",
        "*Запущен классификатор ближайших соседей для разных количеств\n",
        "*Вычислена ошибка на обучающей и тестовой выборках - сделаны выводы\n",
        "\n",
        "Датасет имеет несбалансированные классы: 75/25 - люди, не ищущие смену работы/люди, ищущие смену работы\n",
        "\n",
        "Классификатор ближайших соседей был запущен при разных значениях параметра k - числа соседей с целью определить оптимальный.Оптимальное число соседей: 55. Ошибка на тестовой выборке при этом параметре:  0.24979132865397768, причем большая часть ошибок вида  – false negative (людей, которые ищут работу, относят к тем, кто не ищет).\n",
        "\n",
        "Данный метод классификации объектов не подходит для данной задачи, т.к ошибка классификации объектов достаточно большая."
      ],
      "metadata": {
        "id": "b8ZAde9LczuB"
      }
    }
  ]
}